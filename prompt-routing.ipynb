{
 "cells": [
  {
   "attachments": {
    "image.png": {
     "image/png": "[encoded data removed]"
    }
   },
   "cell_type": "markdown",
   "metadata": {},
   "source": [
    "# Prompt Routing in Langchain\n",
    "\n",
    "![image.png](attachment:image.png)"
   ]
  },
  {
   "cell_type": "code",
   "execution_count": 21,
   "metadata": {},
   "outputs": [],
   "source": [
    "import os\n",
    "import getpass\n",
    "\n",
    "from langchain.chains.router import MultiPromptChain\n",
    "from langchain_openai import OpenAI\n",
    "from langchain.chains import ConversationChain\n",
    "from langchain.chains.llm import LLMChain\n",
    "from langchain.prompts import PromptTemplate, ChatPromptTemplate\n",
    "\n",
    "from langchain.chains.router.llm_router import LLMRouterChain, RouterOutputParser\n",
    "from langchain.chains.router.multi_prompt_prompt import MULTI_PROMPT_ROUTER_TEMPLATE"
   ]
  },
  {
   "cell_type": "code",
   "execution_count": 3,
   "metadata": {},
   "outputs": [],
   "source": [
    "os.environ['OPENAI_API_KEY'] = getpass.getpass()"
   ]
  },
  {
   "cell_type": "markdown",
   "metadata": {},
   "source": [
    "## Good Cop, Bad Cop"
   ]
  },
  {
   "cell_type": "code",
   "execution_count": 6,
   "metadata": {},
   "outputs": [],
   "source": [
    "good_cop = \"\"\"You are a very smart and understanding police detective. \\\n",
    "    You are great at empathizing with people and understanding their deeper psychology.\n",
    "    When you don't know the answer to a question you admit that you don't know.\n",
    "    \n",
    "    Here is a message to you from the person you are talking to:\n",
    "    Person: {input}\n",
    "    ---\n",
    "    Good Cop Would Say:\n",
    "    \"\"\"\n",
    "\n",
    "bad_cop = \"\"\"You are a very skilled police officer and are hard on people.\n",
    "    You choose to play the bad cop role when trying to get info because you\n",
    "    believe in intimidation as the best way to get information.\n",
    "    You get frustrated when people you are questioning are being difficult.\n",
    "    \n",
    "    Here is a message to you from the person you are talking to:\n",
    "    Person: {input}\n",
    "    ---\n",
    "    Bad Cop Would Say:\n",
    "    \"\"\""
   ]
  },
  {
   "cell_type": "code",
   "execution_count": 9,
   "metadata": {},
   "outputs": [],
   "source": [
    "prompt_infos = [\n",
    "    {\n",
    "        \"name\": \"good_cop\", \n",
    "        \"description\": \"Good for working with people in a calm way to get things out of them and converse\", \n",
    "        \"prompt_template\": good_cop,\n",
    "    }, \n",
    "    {\n",
    "        \"name\": \"bad_cop\", \n",
    "        \"description\": \"Good for when intimidation tactics are appropriate for the scenario and when someone is being rude.\", \n",
    "        \"prompt_template\": bad_cop\n",
    "    }\n",
    "]"
   ]
  },
  {
   "cell_type": "code",
   "execution_count": 8,
   "metadata": {},
   "outputs": [],
   "source": [
    "llm = OpenAI()"
   ]
  },
  {
   "cell_type": "code",
   "execution_count": 10,
   "metadata": {},
   "outputs": [],
   "source": [
    "destination_chains = {}\n",
    "for p_info in prompt_infos:\n",
    "    name = p_info[\"name\"]\n",
    "    prompt_template = p_info[\"prompt_template\"]\n",
    "    prompt = PromptTemplate(template=prompt_template, input_variables=['input'])\n",
    "    chain = LLMChain(llm=llm, prompt=prompt)\n",
    "    destination_chains[name] = chain\n",
    "default_chain = ConversationChain(llm=llm, output_key='test')"
   ]
  },
  {
   "cell_type": "code",
   "execution_count": 13,
   "metadata": {},
   "outputs": [
    {
     "name": "stdout",
     "output_type": "stream",
     "text": [
      "Given a raw text input to a language model select the model prompt best suited for the input. You will be given the names of the available prompts and a description of what the prompt is best suited for. You may also revise the original input if you think that revising it will ultimately lead to a better response from the language model.\n",
      "\n",
      "<< FORMATTING >>\n",
      "Return a markdown code snippet with a JSON object formatted to look like:\n",
      "```json\n",
      "{{\n",
      "    \"destination\": string \\ name of the prompt to use or \"DEFAULT\"\n",
      "    \"next_inputs\": string \\ a potentially modified version of the original input\n",
      "}}\n",
      "```\n",
      "\n",
      "REMEMBER: \"destination\" MUST be one of the candidate prompt names specified below OR it can be \"DEFAULT\" if the input is not well suited for any of the candidate prompts.\n",
      "REMEMBER: \"next_inputs\" can just be the original input if you don't think any modifications are needed.\n",
      "\n",
      "<< CANDIDATE PROMPTS >>\n",
      "good_cop: Good for working with people in a calm way to get things out of them and converse\n",
      "bad_cop: Good for when intimidation tactics are appropriate for the scenario and when someone is being rude.\n",
      "\n",
      "<< INPUT >>\n",
      "{input}\n",
      "\n",
      "<< OUTPUT (must include ```json at the start of the response) >>\n",
      "<< OUTPUT (must end with ```) >>\n",
      "\n"
     ]
    }
   ],
   "source": [
    "# Define LLMRouterChain\n",
    "destinations = [f\"{p['name']}: {p['description']}\" for p in prompt_infos]\n",
    "destinations_str = \"\\n\".join(destinations)\n",
    "router_template = MULTI_PROMPT_ROUTER_TEMPLATE.format(destinations=destinations_str)\n",
    "router_prompt = PromptTemplate(\n",
    "    template=router_template, \n",
    "    input_variables=[\"input\"], \n",
    "    output_parser=RouterOutputParser()\n",
    ")\n",
    "print(router_prompt.template)\n",
    "router_chain = LLMRouterChain.from_llm(llm, router_prompt)"
   ]
  },
  {
   "cell_type": "code",
   "execution_count": 14,
   "metadata": {},
   "outputs": [],
   "source": [
    "chain = MultiPromptChain(\n",
    "    router_chain=router_chain, \n",
    "    destination_chains=destination_chains, \n",
    "    default_chain=default_chain, \n",
    "    verbose=True\n",
    ")"
   ]
  },
  {
   "cell_type": "code",
   "execution_count": 15,
   "metadata": {},
   "outputs": [
    {
     "name": "stderr",
     "output_type": "stream",
     "text": [
      "/home/zeus/miniconda3/envs/cloudspace/lib/python3.10/site-packages/langchain_core/_api/deprecation.py:117: LangChainDeprecationWarning: The function `run` was deprecated in LangChain 0.1.0 and will be removed in 0.2.0. Use invoke instead.\n",
      "  warn_deprecated(\n",
      "/home/zeus/miniconda3/envs/cloudspace/lib/python3.10/site-packages/langchain/chains/llm.py:316: UserWarning: The predict_and_parse method is deprecated, instead pass an output parser directly to LLMChain.\n",
      "  warnings.warn(\n"
     ]
    },
    {
     "name": "stdout",
     "output_type": "stream",
     "text": [
      "\n",
      "\n",
      "\u001b[1m> Entering new MultiPromptChain chain...\u001b[0m\n",
      "bad_cop: {'input': \"I'm not telling you what i did. go stuff it!\"}\n",
      "\u001b[1m> Finished chain.\u001b[0m\n",
      " Listen here, buddy. You're not leaving this room until you start cooperating. I'm not playing games and I don't have time for your attitude. So unless you want to spend the rest of the night in a cold, uncomfortable cell, I suggest you start talking. Now.\n"
     ]
    }
   ],
   "source": [
    "print(chain.run(\"I'm not telling you what i did. go stuff it!\"))"
   ]
  },
  {
   "cell_type": "code",
   "execution_count": 17,
   "metadata": {},
   "outputs": [
    {
     "name": "stdout",
     "output_type": "stream",
     "text": [
      "\n",
      "\n",
      "\u001b[1m> Entering new MultiPromptChain chain...\u001b[0m\n"
     ]
    },
    {
     "name": "stderr",
     "output_type": "stream",
     "text": [
      "/home/zeus/miniconda3/envs/cloudspace/lib/python3.10/site-packages/langchain/chains/llm.py:316: UserWarning: The predict_and_parse method is deprecated, instead pass an output parser directly to LLMChain.\n",
      "  warnings.warn(\n"
     ]
    },
    {
     "name": "stdout",
     "output_type": "stream",
     "text": [
      "good_cop: {'input': \"please don't make me tell you. I'm just so stressed\"}\n",
      "\u001b[1m> Finished chain.\u001b[0m\n",
      "\n",
      "I understand that you're feeling stressed and I don't want to add to that. Can you tell me more about why you're feeling stressed and how I can help alleviate some of that stress?\n"
     ]
    }
   ],
   "source": [
    "print(chain.run(\"please don't make me tell you. I'm just so stressed\"))"
   ]
  },
  {
   "cell_type": "markdown",
   "metadata": {},
   "source": [
    "## Decision Evaluation AI"
   ]
  },
  {
   "cell_type": "code",
   "execution_count": 18,
   "metadata": {},
   "outputs": [],
   "source": [
    "# Build a Decision Evaluation Model Prompt Templates\n",
    "ProsandCons_template =  \"\"\"You are an expert in evaluating decisions \\\n",
    "using Pros and Cons Mental Model. Give me a list of Pros and Cons \\\n",
    "that will help decide on Why this decision should be made or not made \\\n",
    "in a concise and easy to understand manner in a markdown. \\\n",
    "Here is the decision\n",
    "{input}:\"\"\"\n",
    "\n",
    "OpportunityCostPrompt_template = \"\"\"You are an expert in evaluating decisions \\\n",
    "using Opportunity Cost Mental Model. Evaluate this decision from the viewpoint \\\n",
    "of opportunity cost and give me a list of alternate opportunities \\\n",
    "I would be forgoing because of this decision \\\n",
    "in a concise and easy to understand manner in a Markdown. \\\n",
    "Here is the decision\n",
    "{input}:\"\"\"\n",
    "\n",
    "Pareto_Prompt_template = \"\"\"You are an expert in evaluating decisions using \\\n",
    "Pareto You use this 80/20 method and Evaluate this decision to determine the\n",
    "20% offactors that  should be paid attention to while making this decision \\ \n",
    "which will lead to 80% of the benefit. Provide the list of factors in a \n",
    "concise and easy to understand manner in a Markdown. \\\n",
    "Here is the decision \n",
    "{input}:\"\"\"\n",
    "\n",
    "SystemsThinkingPrompt_template = \"\"\" You are an expert in using systems \\ \n",
    "thinking to analyze the decision and you view the decision as a part of a \\ \n",
    "larger and interconnected system and identify the key variables from the \\ \n",
    "decision that will affect the wider system. Provide the list of factors in a \\ \n",
    "concise and easy to understand manner in a Markdown. \\\n",
    "Here is the decision\n",
    "{input}:\"\"\"\n",
    "\n",
    "RegretMinimizationPrompt_template = \"\"\" You are an expert in using \\\n",
    "Regret Minimization to analyze the decision and generate a list of possible \\\n",
    "regrets that this decision could bring about. Provide me a list of alternate \\\n",
    "decisions that would reduce regret in comparison in a concise and easy to \\\n",
    "understand manner in a Markdown. \\\n",
    "Here is the decision\n",
    "{input}:\"\"\"\n",
    "\n",
    "prompt_infos = [\n",
    "    {\n",
    "        \"name\": \"Pros and Cons Mental Model\",\n",
    "        \"description\": \"Good for evaluating decisions by Pros and Cons\",\n",
    "        \"prompt_template\": ProsandCons_template\n",
    "    },\n",
    "    {\n",
    "        \"name\": \"Pareto 80 20 Mental Model\",\n",
    "        \"description\": \"Good for evaluating decisions by Pareto 8020\",\n",
    "        \"prompt_template\": Pareto_Prompt_template\n",
    "    },\n",
    "{\n",
    "        \"name\": \"Opportunity Cost Mental Model\",\n",
    "        \"description\": \"Good for evaluating decisions by Opportunity Cost\",\n",
    "        \"prompt_template\": OpportunityCostPrompt_template\n",
    "    },\n",
    "    {\n",
    "        \"name\": \"Systems Thinking Mental Model\",\n",
    "        \"description\": \"Good for evaluating decisions by Systems Thinking\",\n",
    "        \"prompt_template\": SystemsThinkingPrompt_template\n",
    "    },\n",
    "    {\n",
    "        \"name\": \"Regret Minimization Mental Model\",\n",
    "        \"description\": \"Good for evaluating decisions by Regret Minimization\",\n",
    "        \"prompt_template\": RegretMinimizationPrompt_template\n",
    "    }\n",
    "    ]"
   ]
  },
  {
   "cell_type": "code",
   "execution_count": 19,
   "metadata": {},
   "outputs": [],
   "source": [
    "llm = OpenAI()"
   ]
  },
  {
   "cell_type": "code",
   "execution_count": 22,
   "metadata": {},
   "outputs": [],
   "source": [
    "# Set up Destination Chains\n",
    "\n",
    "destination_chains = {}\n",
    "for p_info in prompt_infos:\n",
    "    name = p_info[\"name\"]\n",
    "    prompt_template = p_info[\"prompt_template\"]\n",
    "    prompt = ChatPromptTemplate.from_template(template=prompt_template)\n",
    "    chain = LLMChain(llm=llm, prompt=prompt)\n",
    "    destination_chains[name] = chain\n",
    "\n",
    "destinations = [f\"{p['name']}: {p['description']}\" for p in prompt_infos]\n",
    "destinations_str = \"\\n\".join(destinations)"
   ]
  },
  {
   "cell_type": "code",
   "execution_count": 23,
   "metadata": {},
   "outputs": [],
   "source": [
    "# Set up Default Prompt Chain\n",
    "\n",
    "default_prompt = ChatPromptTemplate.from_template(\"{input}\")\n",
    "default_chain = LLMChain(llm=llm, prompt=default_prompt)"
   ]
  },
  {
   "cell_type": "code",
   "execution_count": 24,
   "metadata": {},
   "outputs": [],
   "source": [
    "#Setup MultiPromptRouterTemplate and RouterPrompt and RouterChain\n",
    "router_template = MULTI_PROMPT_ROUTER_TEMPLATE.format(\n",
    "    destinations=destinations_str\n",
    ")\n",
    "router_prompt = PromptTemplate(\n",
    "    template=router_template,\n",
    "    input_variables=[\"input\"],\n",
    "    output_parser=RouterOutputParser(),\n",
    ")\n",
    "\n",
    "router_chain = LLMRouterChain.from_llm(llm, router_prompt)"
   ]
  },
  {
   "cell_type": "code",
   "execution_count": 25,
   "metadata": {},
   "outputs": [],
   "source": [
    "#Set up MultiPromptChain\n",
    "chain = MultiPromptChain(router_chain=router_chain,\n",
    "                         destination_chains=destination_chains,\n",
    "                         default_chain=default_chain, \n",
    "                         verbose=True)"
   ]
  },
  {
   "cell_type": "code",
   "execution_count": 26,
   "metadata": {},
   "outputs": [
    {
     "name": "stdout",
     "output_type": "stream",
     "text": [
      "\n",
      "\n",
      "\u001b[1m> Entering new MultiPromptChain chain...\u001b[0m\n"
     ]
    },
    {
     "name": "stderr",
     "output_type": "stream",
     "text": [
      "/home/zeus/miniconda3/envs/cloudspace/lib/python3.10/site-packages/langchain/chains/llm.py:316: UserWarning: The predict_and_parse method is deprecated, instead pass an output parser directly to LLMChain.\n",
      "  warnings.warn(\n"
     ]
    },
    {
     "name": "stdout",
     "output_type": "stream",
     "text": [
      "Pareto 80 20 Mental Model: {'input': 'I am planning to add new business portfolio,Help me with Most Vital Factors to be focussed, that could affect this decision.'}\n",
      "\u001b[1m> Finished chain.\u001b[0m\n"
     ]
    },
    {
     "data": {
      "text/plain": [
       "'\\n\\n- Market demand for the new business portfolio\\n- Potential revenue and profitability of the new business portfolio\\n- Competition in the market for the new business portfolio\\n- Cost of implementing and maintaining the new business portfolio\\n- Available resources and capabilities to support the new business portfolio\\n- Potential risks and challenges associated with the new business portfolio\\n- Alignment with overall business strategy and goals\\n- Customer needs and preferences for the new business portfolio\\n- Market trends and forecasts for the new business portfolio\\n- Potential impact on existing business and customers\\n- Regulatory and legal considerations for the new business portfolio\\n- Timeframe for implementation and expected return on investment.'"
      ]
     },
     "execution_count": 26,
     "metadata": {},
     "output_type": "execute_result"
    }
   ],
   "source": [
    "# Test for Pareto 80 20 Evaluation Routing\n",
    "decision = \"I am planning to add new business portfolio,Help me with Most Vital Factors to be focussed, that could affect this decision \"\n",
    "chain.run(decision)"
   ]
  },
  {
   "cell_type": "code",
   "execution_count": 27,
   "metadata": {},
   "outputs": [
    {
     "name": "stdout",
     "output_type": "stream",
     "text": [
      "\n",
      "\n",
      "\u001b[1m> Entering new MultiPromptChain chain...\u001b[0m\n"
     ]
    },
    {
     "name": "stderr",
     "output_type": "stream",
     "text": [
      "/home/zeus/miniconda3/envs/cloudspace/lib/python3.10/site-packages/langchain/chains/llm.py:316: UserWarning: The predict_and_parse method is deprecated, instead pass an output parser directly to LLMChain.\n",
      "  warnings.warn(\n"
     ]
    },
    {
     "name": "stdout",
     "output_type": "stream",
     "text": [
      "Opportunity Cost Mental Model: {'input': 'I am planning to add new business portfolio, Help me understand the opportunity cost and associated alternate opportunities which i would forego by this decision'}\n",
      "\u001b[1m> Finished chain.\u001b[0m\n"
     ]
    },
    {
     "data": {
      "text/plain": [
       "'\\n\\n**Decision: Adding a new business portfolio**\\n\\nOpportunity Cost: The potential benefit or opportunity that is forgone or sacrificed when choosing one option over another.\\n\\nAlternate Opportunities Foregone:\\n1. Investing in expanding the current business portfolio: By adding a new business portfolio, you would be forgoing the opportunity to invest in expanding your current business portfolio. This could potentially lead to missed growth and profits in your current business.\\n2. Investing in new technology or equipment: Adding a new business portfolio would require a significant amount of resources and capital. This may limit your ability to invest in new technology or equipment that could improve efficiency and competitiveness in your current business.\\n3. Diversifying into different markets: Instead of adding a new business portfolio, you could invest in diversifying your current business into new markets. This could potentially open up new revenue streams and reduce the risk of relying on a single business portfolio.\\n4. Acquiring or merging with another company: The resources and capital required for a new business portfolio could also be used for acquiring or merging with another company. This could potentially lead to synergies and increased market share.\\n5. Investing in employee training and development: Adding a new business portfolio may require hiring new employees or retraining current ones. This could limit your ability to'"
      ]
     },
     "execution_count": 27,
     "metadata": {},
     "output_type": "execute_result"
    }
   ],
   "source": [
    "# Test for Opportunity Cost Model Evaluation Routing\n",
    "decision = \"I am planning to add new business portfolio, Help me understand the opportunity cost and associated alternate opportunities which i would forego by this decision \"\n",
    "chain.run(decision)"
   ]
  },
  {
   "cell_type": "code",
   "execution_count": 30,
   "metadata": {},
   "outputs": [
    {
     "name": "stdout",
     "output_type": "stream",
     "text": [
      "\n",
      "\n",
      "\u001b[1m> Entering new MultiPromptChain chain...\u001b[0m\n"
     ]
    },
    {
     "name": "stderr",
     "output_type": "stream",
     "text": [
      "/home/zeus/miniconda3/envs/cloudspace/lib/python3.10/site-packages/langchain/chains/llm.py:316: UserWarning: The predict_and_parse method is deprecated, instead pass an output parser directly to LLMChain.\n",
      "  warnings.warn(\n"
     ]
    },
    {
     "name": "stdout",
     "output_type": "stream",
     "text": [
      "Pros and Cons Mental Model: {'input': 'I am planning to add new business portfolio, evaluate this decision and help with assumptions that could affect this decision by analyzing the pros and cons.'}\n",
      "\u001b[1m> Finished chain.\u001b[0m\n"
     ]
    },
    {
     "data": {
      "text/plain": [
       "\"\\n\\nPros:\\n1. Diversification of revenue streams: Adding a new business portfolio can help diversify the company's sources of income, reducing reliance on a single product or service.\\n\\n2. Potential for growth: A new business portfolio can provide opportunities for growth and expansion, especially if it taps into a new market or caters to a different demographic.\\n\\n3. Competitive advantage: With a new business portfolio, the company can gain a competitive advantage by offering a unique product or service that sets it apart from competitors.\\n\\n4. Increased market share: A new business portfolio can help the company increase its market share by attracting new customers and expanding its reach.\\n\\n5. Learning and development: By venturing into a new business portfolio, the company can gain new skills and knowledge, leading to continuous learning and development.\\n\\nCons:\\n1. Financial risk: Adding a new business portfolio requires significant investment and can be financially risky, especially if the new venture does not generate expected profits.\\n\\n2. Time and resources: Launching a new business portfolio can be time-consuming and requires a considerable amount of resources, including personnel, equipment, and infrastructure.\\n\\n3. Brand dilution: If the new business portfolio does not align with the company's existing brand image, it can dilute the brand and confuse customers\""
      ]
     },
     "execution_count": 30,
     "metadata": {},
     "output_type": "execute_result"
    }
   ],
   "source": [
    "# Test how Decision Evaluation AI behaves if None of Decision Evaluation Prompt Routing is applicable for the Decision Input\n",
    "decision = \"I am planning to add new business portfolio, evaluate this decision and help with assumptions that could affect this decision \"\n",
    "chain.run(decision)"
   ]
  },
  {
   "cell_type": "code",
   "execution_count": null,
   "metadata": {},
   "outputs": [],
   "source": []
  }
 ],
 "metadata": {
  "kernelspec": {
   "display_name": "Python 3",
   "language": "python",
   "name": "python3"
  },
  "language_info": {
   "codemirror_mode": {
    "name": "ipython",
    "version": 3
   },
   "file_extension": ".py",
   "mimetype": "text/x-python",
   "name": "python",
   "nbconvert_exporter": "python",
   "pygments_lexer": "ipython3",
   "version": "3.10.10"
  }
 },
 "nbformat": 4,
 "nbformat_minor": 2
}
